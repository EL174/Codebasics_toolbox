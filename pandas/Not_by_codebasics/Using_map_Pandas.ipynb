{
 "cells": [
  {
   "cell_type": "markdown",
   "metadata": {},
   "source": [
    "https://pythonviz.com/pandas/pandas-series-map-dataframe-applymap/\n",
    "分析數據時，我們經常需要對每一個元素（element）進行計算和轉換（Transform）。\n",
    "\n",
    "比方說，我們想將一群學生身高的列（column）的單位從釐米轉成米時，便需要把每個元素除以 100。\n",
    "\n",
    "我們如何妙用 pandas 內置的功能完成這個任務？"
   ]
  },
  {
   "cell_type": "markdown",
   "metadata": {},
   "source": [
    "- 可以用apply function"
   ]
  },
  {
   "cell_type": "markdown",
   "metadata": {},
   "source": [
    "#### 在 Series 的 map 功能\n",
    "我們首先介紹在 pandas Series (即一個列 Column）的方法。\n",
    "\n",
    "map 功能是一個可以幫我們把一個行動（operation）按元素地使用。比方說，將身高從米轉成釐米時，map 把「乘以 10」這個行動向每一個元素使用。\n",
    "\n",
    "Series 上的 map 主要有以下 3 個用途：\n",
    "\n",
    "1. 使用 map 進行簡單算法運算（arithmetic operation）或條件運算（conditional operation）\n",
    "2. 使用 map 映射數據\n",
    "3. 使用 map 將一個 Python 功能使用在每一個元素\n"
   ]
  },
  {
   "cell_type": "code",
   "execution_count": 2,
   "metadata": {},
   "outputs": [
    {
     "name": "stdout",
     "output_type": "stream",
     "text": [
      "0    167.0\n",
      "1    178.0\n",
      "2    145.0\n",
      "3    120.0\n",
      "dtype: float64\n",
      "0     True\n",
      "1     True\n",
      "2    False\n",
      "3    False\n",
      "dtype: bool\n"
     ]
    }
   ],
   "source": [
    "import pandas as pd\n",
    "# 使用 map 進行簡單算法運算\n",
    "height = pd.Series([1.67, 1.78, 1.45, 1.20])\n",
    "\n",
    "print(height.map(lambda x: x * 100))\n",
    "print(height.map(lambda x: x > 1.5))"
   ]
  },
  {
   "cell_type": "markdown",
   "metadata": {},
   "source": [
    "使用 map 映射數據\n",
    "- 這個用途比較貼近 map 這個字原來的意思。\n",
    "\n",
    "- 譬如我們有一個我們去過的國家名稱列表（例如 ['Canada', 'Canada', 'Japan', 'Japan', 'Japan', 'Taiwan', 'Taiwan', 'United Kingdom']），而我們希望數算有多少個國家在亞洲、美洲等，如何達至這個目的？\n",
    "\n",
    "- map 除了可以用 lambda 的型態處理每一個元素以外，我們亦可以輸入一個字典（dictionary）讓 pandas 知道每一個獨特（unique）的元素應該輸出甚麼結果（例如 Canada -> Americas，Taiwan -> Asia 等）。"
   ]
  },
  {
   "cell_type": "code",
   "execution_count": 3,
   "metadata": {},
   "outputs": [
    {
     "data": {
      "text/plain": [
       "0    Americas\n",
       "1    Americas\n",
       "2        Asia\n",
       "3        Asia\n",
       "4        Asia\n",
       "5        Asia\n",
       "6        Asia\n",
       "7      Europe\n",
       "dtype: object"
      ]
     },
     "execution_count": 3,
     "metadata": {},
     "output_type": "execute_result"
    }
   ],
   "source": [
    "import pandas as pd\n",
    "countries_visited = pd.Series(['Canada', 'Canada', 'Japan', 'Japan', 'Japan', 'Taiwan', 'Taiwan', 'United Kingdom'])\n",
    "\n",
    "countries_visited.map({'Canada': 'Americas', 'Japan': 'Asia', 'Taiwan': 'Asia', 'United Kingdom': 'Europe'}) #inputting a dictionary into map()"
   ]
  },
  {
   "cell_type": "code",
   "execution_count": 4,
   "metadata": {},
   "outputs": [
    {
     "data": {
      "text/plain": [
       "0    13\n",
       "1    13\n",
       "2    14\n",
       "dtype: int64"
      ]
     },
     "execution_count": 4,
     "metadata": {},
     "output_type": "execute_result"
    }
   ],
   "source": [
    "# 第 3 個用途：將 Python 功能使用在每一個元素\n",
    "import pandas as pd\n",
    "names = pd.Series(['Chan, Siu Wan','Lam, Tai Ming','Yung, Hong Chi'])\n",
    "\n",
    "names.map(len)"
   ]
  },
  {
   "cell_type": "code",
   "execution_count": 6,
   "metadata": {},
   "outputs": [
    {
     "data": {
      "text/plain": [
       "0    Americas\n",
       "1    Americas\n",
       "2        Asia\n",
       "3        Asia\n",
       "4        Asia\n",
       "5        Asia\n",
       "6        Asia\n",
       "7      Europe\n",
       "dtype: object"
      ]
     },
     "execution_count": 6,
     "metadata": {},
     "output_type": "execute_result"
    }
   ],
   "source": [
    "# 我們也可以把自訂功能使用在每一個元素上。 沿用我們國家名稱的例子，我們也可以自訂一個 continent() 的 Python 功能達到相同效果：\n",
    "\n",
    "import pandas as pd\n",
    "countries_visited = pd.Series(['Canada', 'Canada', 'Japan', 'Japan', 'Japan', 'Taiwan', 'Taiwan', 'United Kingdom'])\n",
    "\n",
    "def continent(country):\n",
    "  if country in ['Canada']: return 'Americas'\n",
    "  if country in ['Japan', 'Taiwan']: return 'Asia'\n",
    "  if country in ['United Kingdom']: return 'Europe'\n",
    "\n",
    "countries_visited.map(continent) #inputting a function indicating what to return is an alternative to inputting a dictionary."
   ]
  },
  {
   "cell_type": "markdown",
   "metadata": {},
   "source": [
    "#### 在 DataFrame 的 applymap 功能\n",
    " pandas DataFrame 也有 applymap 這一個功能。\n",
    "\n",
    "本質上，DataFrame 的 applymap 跟 Series 的 map 的作用一樣，但 DataFrame 的 applymap 會將您提供的字典/功能**應用在每一個 DataFrame 的元素裡**。\n",
    "\n",
    "譬如我們有一個量度 2 個箱子長闊高（單位是米）的 DataFrame，有 3 個列（column）：height, width 和 depth。如果我們想將全部的數字變成釐米，怎麼使用 applymap 達至目的？"
   ]
  },
  {
   "cell_type": "code",
   "execution_count": 9,
   "metadata": {},
   "outputs": [
    {
     "data": {
      "text/html": [
       "<div>\n",
       "<style scoped>\n",
       "    .dataframe tbody tr th:only-of-type {\n",
       "        vertical-align: middle;\n",
       "    }\n",
       "\n",
       "    .dataframe tbody tr th {\n",
       "        vertical-align: top;\n",
       "    }\n",
       "\n",
       "    .dataframe thead th {\n",
       "        text-align: right;\n",
       "    }\n",
       "</style>\n",
       "<table border=\"1\" class=\"dataframe\">\n",
       "  <thead>\n",
       "    <tr style=\"text-align: right;\">\n",
       "      <th></th>\n",
       "      <th>height</th>\n",
       "      <th>width</th>\n",
       "      <th>depth</th>\n",
       "    </tr>\n",
       "  </thead>\n",
       "  <tbody>\n",
       "    <tr>\n",
       "      <th>0</th>\n",
       "      <td>130.0</td>\n",
       "      <td>80.0</td>\n",
       "      <td>250.0</td>\n",
       "    </tr>\n",
       "    <tr>\n",
       "      <th>1</th>\n",
       "      <td>60.0</td>\n",
       "      <td>90.0</td>\n",
       "      <td>150.0</td>\n",
       "    </tr>\n",
       "  </tbody>\n",
       "</table>\n",
       "</div>"
      ],
      "text/plain": [
       "   height  width  depth\n",
       "0   130.0   80.0  250.0\n",
       "1    60.0   90.0  150.0"
      ]
     },
     "execution_count": 9,
     "metadata": {},
     "output_type": "execute_result"
    }
   ],
   "source": [
    "import pandas as pd\n",
    "measures = pd.DataFrame({'height': [1.3,0.6],'width': [0.8,0.9],'depth':[2.5,1.5]})\n",
    "\n",
    "measures.applymap(lambda x: x * 100)\n",
    "#But note that this is just returning a new dataframe, so save it to a variable if you want to use it later on."
   ]
  },
  {
   "cell_type": "code",
   "execution_count": 10,
   "metadata": {},
   "outputs": [
    {
     "data": {
      "text/html": [
       "<div>\n",
       "<style scoped>\n",
       "    .dataframe tbody tr th:only-of-type {\n",
       "        vertical-align: middle;\n",
       "    }\n",
       "\n",
       "    .dataframe tbody tr th {\n",
       "        vertical-align: top;\n",
       "    }\n",
       "\n",
       "    .dataframe thead th {\n",
       "        text-align: right;\n",
       "    }\n",
       "</style>\n",
       "<table border=\"1\" class=\"dataframe\">\n",
       "  <thead>\n",
       "    <tr style=\"text-align: right;\">\n",
       "      <th></th>\n",
       "      <th>height</th>\n",
       "      <th>width</th>\n",
       "      <th>depth</th>\n",
       "    </tr>\n",
       "  </thead>\n",
       "  <tbody>\n",
       "    <tr>\n",
       "      <th>0</th>\n",
       "      <td>130.0</td>\n",
       "      <td>80.0</td>\n",
       "      <td>250.0</td>\n",
       "    </tr>\n",
       "    <tr>\n",
       "      <th>1</th>\n",
       "      <td>60.0</td>\n",
       "      <td>90.0</td>\n",
       "      <td>150.0</td>\n",
       "    </tr>\n",
       "  </tbody>\n",
       "</table>\n",
       "</div>"
      ],
      "text/plain": [
       "   height  width  depth\n",
       "0   130.0   80.0  250.0\n",
       "1    60.0   90.0  150.0"
      ]
     },
     "execution_count": 10,
     "metadata": {},
     "output_type": "execute_result"
    }
   ],
   "source": [
    "#Using apply works as well\n",
    "measures.apply(lambda x: x*100)"
   ]
  },
  {
   "cell_type": "markdown",
   "metadata": {},
   "source": [
    "#### map 與 apply 的分別\n"
   ]
  },
  {
   "cell_type": "markdown",
   "metadata": {},
   "source": [
    "<img src='Difference_between_map&apply.png' width=500>\n"
   ]
  },
  {
   "cell_type": "code",
   "execution_count": null,
   "metadata": {},
   "outputs": [],
   "source": []
  }
 ],
 "metadata": {
  "kernelspec": {
   "display_name": "Python 3.9.10 ('base')",
   "language": "python",
   "name": "python3"
  },
  "language_info": {
   "codemirror_mode": {
    "name": "ipython",
    "version": 3
   },
   "file_extension": ".py",
   "mimetype": "text/x-python",
   "name": "python",
   "nbconvert_exporter": "python",
   "pygments_lexer": "ipython3",
   "version": "3.9.10"
  },
  "orig_nbformat": 4,
  "vscode": {
   "interpreter": {
    "hash": "1e1fa977a078a67ca01175e649d62c3c39998bf89b903f21486dce3884132635"
   }
  }
 },
 "nbformat": 4,
 "nbformat_minor": 2
}
